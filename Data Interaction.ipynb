{
 "cells": [
  {
   "cell_type": "code",
   "execution_count": 17,
   "metadata": {
    "collapsed": true
   },
   "outputs": [],
   "source": [
    "%matplotlib inline\n",
    "\n",
    "import json\n",
    "import matplotlib.pyplot as plt\n",
    "import os\n",
    "\n",
    "from model.index import Index"
   ]
  },
  {
   "cell_type": "markdown",
   "metadata": {},
   "source": [
    "## Check if a link is in our model."
   ]
  },
  {
   "cell_type": "code",
   "execution_count": 10,
   "metadata": {
    "collapsed": false
   },
   "outputs": [],
   "source": [
    "links_in_model = set(json.load(open(os.path.join('data', 'links_in_model.json'))))"
   ]
  },
  {
   "cell_type": "code",
   "execution_count": 11,
   "metadata": {
    "collapsed": false
   },
   "outputs": [
    {
     "name": "stdout",
     "output_type": "stream",
     "text": [
      "2118605\n"
     ]
    }
   ],
   "source": [
    "print len(links_in_model)"
   ]
  },
  {
   "cell_type": "code",
   "execution_count": 12,
   "metadata": {
    "collapsed": false
   },
   "outputs": [
    {
     "name": "stdout",
     "output_type": "stream",
     "text": [
      "True\n"
     ]
    }
   ],
   "source": [
    "print 'https://github.com/torvalds/linux' in links_in_model"
   ]
  },
  {
   "cell_type": "markdown",
   "metadata": {},
   "source": [
    "## Inverted Index Statistics"
   ]
  },
  {
   "cell_type": "code",
   "execution_count": 15,
   "metadata": {
    "collapsed": false
   },
   "outputs": [
    {
     "name": "stdout",
     "output_type": "stream",
     "text": [
      "Number of indexes loaded: 27\n",
      "Cache size: 245884294\n"
     ]
    }
   ],
   "source": [
    "index = Index(os.path.join('model', 'index'), 250e6)"
   ]
  },
  {
   "cell_type": "code",
   "execution_count": 21,
   "metadata": {
    "collapsed": true
   },
   "outputs": [
    {
     "name": "stdout",
     "output_type": "stream",
     "text": [
      "100000\n",
      "200000\n",
      "300000\n",
      "400000\n",
      "500000\n",
      "600000\n",
      "700000\n",
      "800000\n",
      "900000\n",
      "1000000\n",
      "1100000\n",
      "1200000\n",
      "1300000\n",
      "1400000\n",
      "1500000\n",
      "1600000\n",
      "1700000\n",
      "1800000\n",
      "1900000\n",
      "2000000\n",
      "2100000\n",
      "2200000\n",
      "2300000\n",
      "2400000\n",
      "2500000\n",
      "2600000\n",
      "2700000\n",
      "2800000\n",
      "2900000\n",
      "3000000\n"
     ]
    }
   ],
   "source": [
    "index_lengths = []\n",
    "counter = 0\n",
    "for key in index:\n",
    "    index_lengths.append(len(index[key]))\n",
    "    \n",
    "    counter += 1\n",
    "    if counter % 100000 == 0:\n",
    "        print counter"
   ]
  },
  {
   "cell_type": "code",
   "execution_count": 31,
   "metadata": {
    "collapsed": false,
    "scrolled": false
   },
   "outputs": [
    {
     "name": "stdout",
     "output_type": "stream",
     "text": [
      "3012280\n",
      "1183638\n",
      "999\n",
      "99.5775957082\n"
     ]
    },
    {
     "data": {
      "text/plain": [
       "(array([  2.81426900e+06,   7.57610000e+04,   3.03680000e+04,\n",
       "          1.64540000e+04,   1.14040000e+04,   8.18400000e+03,\n",
       "          5.66200000e+03,   4.54700000e+03,   4.24700000e+03,\n",
       "          3.12900000e+03,   2.50900000e+03,   1.94000000e+03,\n",
       "          1.83200000e+03,   1.46300000e+03,   1.39900000e+03,\n",
       "          1.52400000e+03,   1.32600000e+03,   1.08800000e+03,\n",
       "          1.08100000e+03,   8.50000000e+02,   7.81000000e+02,\n",
       "          6.84000000e+02,   6.79000000e+02,   5.78000000e+02,\n",
       "          5.92000000e+02,   5.23000000e+02,   5.05000000e+02,\n",
       "          4.92000000e+02,   4.40000000e+02,   4.03000000e+02,\n",
       "          3.77000000e+02,   3.23000000e+02,   3.30000000e+02,\n",
       "          3.32000000e+02,   2.66000000e+02,   3.09000000e+02,\n",
       "          2.82000000e+02,   2.82000000e+02,   2.37000000e+02,\n",
       "          2.40000000e+02,   2.16000000e+02,   2.06000000e+02,\n",
       "          2.16000000e+02,   1.91000000e+02,   1.69000000e+02,\n",
       "          1.69000000e+02,   1.86000000e+02,   1.81000000e+02,\n",
       "          1.62000000e+02,   1.68000000e+02]),\n",
       " array([   0.  ,   19.98,   39.96,   59.94,   79.92,   99.9 ,  119.88,\n",
       "         139.86,  159.84,  179.82,  199.8 ,  219.78,  239.76,  259.74,\n",
       "         279.72,  299.7 ,  319.68,  339.66,  359.64,  379.62,  399.6 ,\n",
       "         419.58,  439.56,  459.54,  479.52,  499.5 ,  519.48,  539.46,\n",
       "         559.44,  579.42,  599.4 ,  619.38,  639.36,  659.34,  679.32,\n",
       "         699.3 ,  719.28,  739.26,  759.24,  779.22,  799.2 ,  819.18,\n",
       "         839.16,  859.14,  879.12,  899.1 ,  919.08,  939.06,  959.04,\n",
       "         979.02,  999.  ]),\n",
       " <a list of 50 Patch objects>)"
      ]
     },
     "execution_count": 31,
     "metadata": {},
     "output_type": "execute_result"
    },
    {
     "data": {
      "image/png": "[encoded data removed]",
      "text/plain": [
       "<matplotlib.figure.Figure at 0x88a3278>"
      ]
     },
     "metadata": {},
     "output_type": "display_data"
    }
   ],
   "source": [
    "print len(index_lengths)\n",
    "print max(index_lengths) # 1183638\n",
    "\n",
    "culled_lengths = [i for i in index_lengths if i < 1000]\n",
    "print max(culled_lengths)\n",
    "print len(culled_lengths) * 100.0 / len(index_lengths)\n",
    "\n",
    "plt.hist(culled_lengths, bins = 50)"
   ]
  },
  {
   "cell_type": "code",
   "execution_count": null,
   "metadata": {
    "collapsed": true
   },
   "outputs": [],
   "source": []
  }
 ],
 "metadata": {
  "kernelspec": {
   "display_name": "Python 2",
   "language": "python",
   "name": "python2"
  },
  "language_info": {
   "codemirror_mode": {
    "name": "ipython",
    "version": 2
   },
   "file_extension": ".py",
   "mimetype": "text/x-python",
   "name": "python",
   "nbconvert_exporter": "python",
   "pygments_lexer": "ipython2",
   "version": "2.7.9"
  }
 },
 "nbformat": 4,
 "nbformat_minor": 0
}
