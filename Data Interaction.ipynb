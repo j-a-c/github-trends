{
 "cells": [
  {
   "cell_type": "code",
   "execution_count": 1,
   "metadata": {
    "collapsed": true
   },
   "outputs": [],
   "source": [
    "%matplotlib inline\n",
    "\n",
    "import collections\n",
    "import json\n",
    "import matplotlib.pyplot as plt\n",
    "import os\n",
    "\n",
    "from model.index import Index"
   ]
  },
  {
   "cell_type": "markdown",
   "metadata": {},
   "source": [
    "## Check if a link is in our model."
   ]
  },
  {
   "cell_type": "code",
   "execution_count": 10,
   "metadata": {
    "collapsed": false
   },
   "outputs": [],
   "source": [
    "links_in_model = set(json.load(open(os.path.join('data', 'links_in_model.json'))))"
   ]
  },
  {
   "cell_type": "code",
   "execution_count": 11,
   "metadata": {
    "collapsed": false
   },
   "outputs": [
    {
     "name": "stdout",
     "output_type": "stream",
     "text": [
      "2118605\n"
     ]
    }
   ],
   "source": [
    "print len(links_in_model)"
   ]
  },
  {
   "cell_type": "code",
   "execution_count": 12,
   "metadata": {
    "collapsed": false
   },
   "outputs": [
    {
     "name": "stdout",
     "output_type": "stream",
     "text": [
      "True\n"
     ]
    }
   ],
   "source": [
    "print 'https://github.com/torvalds/linux' in links_in_model"
   ]
  },
  {
   "cell_type": "markdown",
   "metadata": {},
   "source": [
    "## Inverted Index Statistics"
   ]
  },
  {
   "cell_type": "code",
   "execution_count": 7,
   "metadata": {
    "collapsed": false
   },
   "outputs": [
    {
     "name": "stdout",
     "output_type": "stream",
     "text": [
      "Number of indexes loaded: 1\n",
      "Cache size: 17304326\n"
     ]
    }
   ],
   "source": [
    "index = Index(os.path.join('model', 'index'), 250e6)"
   ]
  },
  {
   "cell_type": "code",
   "execution_count": 4,
   "metadata": {
    "collapsed": false
   },
   "outputs": [
    {
     "ename": "NameError",
     "evalue": "name 'index' is not defined",
     "output_type": "error",
     "traceback": [
      "\u001b[1;31m---------------------------------------------------------------------------\u001b[0m",
      "\u001b[1;31mNameError\u001b[0m                                 Traceback (most recent call last)",
      "\u001b[1;32m<ipython-input-4-ef041ab6721b>\u001b[0m in \u001b[0;36m<module>\u001b[1;34m()\u001b[0m\n\u001b[0;32m      1\u001b[0m \u001b[0mindex_lengths\u001b[0m \u001b[1;33m=\u001b[0m \u001b[1;33m[\u001b[0m\u001b[1;33m]\u001b[0m\u001b[1;33m\u001b[0m\u001b[0m\n\u001b[0;32m      2\u001b[0m \u001b[0mcounter\u001b[0m \u001b[1;33m=\u001b[0m \u001b[1;36m0\u001b[0m\u001b[1;33m\u001b[0m\u001b[0m\n\u001b[1;32m----> 3\u001b[1;33m \u001b[1;32mfor\u001b[0m \u001b[0mkey\u001b[0m \u001b[1;32min\u001b[0m \u001b[0mindex\u001b[0m\u001b[1;33m:\u001b[0m\u001b[1;33m\u001b[0m\u001b[0m\n\u001b[0m\u001b[0;32m      4\u001b[0m     \u001b[0mindex_lengths\u001b[0m\u001b[1;33m.\u001b[0m\u001b[0mappend\u001b[0m\u001b[1;33m(\u001b[0m\u001b[0mlen\u001b[0m\u001b[1;33m(\u001b[0m\u001b[0mindex\u001b[0m\u001b[1;33m[\u001b[0m\u001b[0mkey\u001b[0m\u001b[1;33m]\u001b[0m\u001b[1;33m)\u001b[0m\u001b[1;33m)\u001b[0m\u001b[1;33m\u001b[0m\u001b[0m\n\u001b[0;32m      5\u001b[0m \u001b[1;33m\u001b[0m\u001b[0m\n",
      "\u001b[1;31mNameError\u001b[0m: name 'index' is not defined"
     ]
    }
   ],
   "source": [
    "index_lengths = []\n",
    "counter = 0\n",
    "for key in index:\n",
    "    index_lengths.append(len(index[key]))\n",
    "    \n",
    "    counter += 1\n",
    "    if counter % 100000 == 0:\n",
    "        print counter"
   ]
  },
  {
   "cell_type": "code",
   "execution_count": 31,
   "metadata": {
    "collapsed": false,
    "scrolled": false
   },
   "outputs": [
    {
     "name": "stdout",
     "output_type": "stream",
     "text": [
      "3012280\n",
      "1183638\n",
      "999\n",
      "99.5775957082\n"
     ]
    },
    {
     "data": {
      "text/plain": [
       "(array([  2.81426900e+06,   7.57610000e+04,   3.03680000e+04,\n",
       "          1.64540000e+04,   1.14040000e+04,   8.18400000e+03,\n",
       "          5.66200000e+03,   4.54700000e+03,   4.24700000e+03,\n",
       "          3.12900000e+03,   2.50900000e+03,   1.94000000e+03,\n",
       "          1.83200000e+03,   1.46300000e+03,   1.39900000e+03,\n",
       "          1.52400000e+03,   1.32600000e+03,   1.08800000e+03,\n",
       "          1.08100000e+03,   8.50000000e+02,   7.81000000e+02,\n",
       "          6.84000000e+02,   6.79000000e+02,   5.78000000e+02,\n",
       "          5.92000000e+02,   5.23000000e+02,   5.05000000e+02,\n",
       "          4.92000000e+02,   4.40000000e+02,   4.03000000e+02,\n",
       "          3.77000000e+02,   3.23000000e+02,   3.30000000e+02,\n",
       "          3.32000000e+02,   2.66000000e+02,   3.09000000e+02,\n",
       "          2.82000000e+02,   2.82000000e+02,   2.37000000e+02,\n",
       "          2.40000000e+02,   2.16000000e+02,   2.06000000e+02,\n",
       "          2.16000000e+02,   1.91000000e+02,   1.69000000e+02,\n",
       "          1.69000000e+02,   1.86000000e+02,   1.81000000e+02,\n",
       "          1.62000000e+02,   1.68000000e+02]),\n",
       " array([   0.  ,   19.98,   39.96,   59.94,   79.92,   99.9 ,  119.88,\n",
       "         139.86,  159.84,  179.82,  199.8 ,  219.78,  239.76,  259.74,\n",
       "         279.72,  299.7 ,  319.68,  339.66,  359.64,  379.62,  399.6 ,\n",
       "         419.58,  439.56,  459.54,  479.52,  499.5 ,  519.48,  539.46,\n",
       "         559.44,  579.42,  599.4 ,  619.38,  639.36,  659.34,  679.32,\n",
       "         699.3 ,  719.28,  739.26,  759.24,  779.22,  799.2 ,  819.18,\n",
       "         839.16,  859.14,  879.12,  899.1 ,  919.08,  939.06,  959.04,\n",
       "         979.02,  999.  ]),\n",
       " <a list of 50 Patch objects>)"
      ]
     },
     "execution_count": 31,
     "metadata": {},
     "output_type": "execute_result"
    },
    {
     "data": {
      "image/png": "[encoded data removed]",
      "text/plain": [
       "<matplotlib.figure.Figure at 0x88a3278>"
      ]
     },
     "metadata": {},
     "output_type": "display_data"
    }
   ],
   "source": [
    "print len(index_lengths)\n",
    "print max(index_lengths) # 1183638\n",
    "\n",
    "culled_lengths = [i for i in index_lengths if i < 1000]\n",
    "print max(culled_lengths)\n",
    "print len(culled_lengths) * 100.0 / len(index_lengths)\n",
    "\n",
    "plt.hist(culled_lengths, bins = 50)"
   ]
  },
  {
   "cell_type": "markdown",
   "metadata": {
    "collapsed": true
   },
   "source": [
    "## Id to link"
   ]
  },
  {
   "cell_type": "code",
   "execution_count": 2,
   "metadata": {
    "collapsed": false
   },
   "outputs": [],
   "source": [
    "id_to_link_map = json.load(open(os.path.join('data', 'id_to_link_map.json')))"
   ]
  },
  {
   "cell_type": "code",
   "execution_count": 4,
   "metadata": {
    "collapsed": false
   },
   "outputs": [
    {
     "name": "stdout",
     "output_type": "stream",
     "text": [
      "11379725 https://github.com/kf4jas/ListOfGithubLists\n",
      "11379026 https://github.com/atlkrunk/ListOfGithubLists\n",
      "7939665 https://github.com/asciimoo/ListOfGithubLists\n",
      "11379348 https://github.com/andrewgjohnson-forks/ListOfGithubLists\n",
      "11385258 https://github.com/z3i/ListOfGithubLists\n",
      "11391658 https://github.com/Cybuster/ListOfGithubLists\n"
     ]
    }
   ],
   "source": [
    "for repo_id in id_to_link_map:\n",
    "    if 'listofgithub' in id_to_link_map[repo_id].lower():\n",
    "        print repo_id, id_to_link_map[repo_id]"
   ]
  },
  {
   "cell_type": "code",
   "execution_count": 24,
   "metadata": {
    "collapsed": false
   },
   "outputs": [],
   "source": [
    "other_http_counts = []\n",
    "other_https_counts = []\n",
    "\n",
    "awesome_http_counts = []\n",
    "awesome_https_counts = []\n",
    "\n",
    "total = collections.defaultdict(int)\n",
    "\n",
    "to_check = set()\n",
    "for k in id_to_link_map:\n",
    "    if 'awesome' in id_to_link_map[k]:\n",
    "        to_check.add(int(k))\n",
    "        \n",
    "for t in index['http']:\n",
    "    if int(t[0]) in to_check:\n",
    "        awesome_http_counts.append(t[1])\n",
    "        total[t[0]] += t[1]\n",
    "    else:\n",
    "        other_http_counts.append(t[1])\n",
    "        \n",
    "                \n",
    "for t in index['https']:\n",
    "    if int(t[0]) in to_check:\n",
    "        awesome_https_counts.append(t[1])\n",
    "        total[t[0]] += t[1]\n",
    "    else:\n",
    "        other_https_counts.append(t[1])"
   ]
  },
  {
   "cell_type": "code",
   "execution_count": 17,
   "metadata": {
    "collapsed": false,
    "scrolled": false
   },
   "outputs": [
    {
     "name": "stdout",
     "output_type": "stream",
     "text": [
      "4316\n"
     ]
    },
    {
     "data": {
      "text/plain": [
       "(array([  2.94574300e+06,   8.43800000e+03,   1.65000000e+03,\n",
       "          4.93000000e+02,   3.95000000e+02,   4.93000000e+02,\n",
       "          5.25000000e+02,   6.27000000e+02,   2.74000000e+02,\n",
       "          6.30000000e+01,   0.00000000e+00,   3.30000000e+01,\n",
       "          3.00000000e+00,   0.00000000e+00,   0.00000000e+00,\n",
       "          1.50000000e+01,   9.00000000e+00,   0.00000000e+00,\n",
       "          0.00000000e+00,   0.00000000e+00,   0.00000000e+00,\n",
       "          0.00000000e+00,   0.00000000e+00,   6.00000000e+00,\n",
       "          0.00000000e+00,   8.40000000e+01,   1.80000000e+01,\n",
       "          9.00000000e+00,   0.00000000e+00,   0.00000000e+00,\n",
       "          0.00000000e+00,   0.00000000e+00,   0.00000000e+00,\n",
       "          0.00000000e+00,   0.00000000e+00,   0.00000000e+00,\n",
       "          0.00000000e+00,   0.00000000e+00,   0.00000000e+00,\n",
       "          0.00000000e+00,   0.00000000e+00,   0.00000000e+00,\n",
       "          0.00000000e+00,   4.00000000e+00,   0.00000000e+00,\n",
       "          0.00000000e+00,   0.00000000e+00,   0.00000000e+00,\n",
       "          0.00000000e+00,   6.53000000e+02]),\n",
       " array([  1.00000000e+00,   8.73000000e+01,   1.73600000e+02,\n",
       "          2.59900000e+02,   3.46200000e+02,   4.32500000e+02,\n",
       "          5.18800000e+02,   6.05100000e+02,   6.91400000e+02,\n",
       "          7.77700000e+02,   8.64000000e+02,   9.50300000e+02,\n",
       "          1.03660000e+03,   1.12290000e+03,   1.20920000e+03,\n",
       "          1.29550000e+03,   1.38180000e+03,   1.46810000e+03,\n",
       "          1.55440000e+03,   1.64070000e+03,   1.72700000e+03,\n",
       "          1.81330000e+03,   1.89960000e+03,   1.98590000e+03,\n",
       "          2.07220000e+03,   2.15850000e+03,   2.24480000e+03,\n",
       "          2.33110000e+03,   2.41740000e+03,   2.50370000e+03,\n",
       "          2.59000000e+03,   2.67630000e+03,   2.76260000e+03,\n",
       "          2.84890000e+03,   2.93520000e+03,   3.02150000e+03,\n",
       "          3.10780000e+03,   3.19410000e+03,   3.28040000e+03,\n",
       "          3.36670000e+03,   3.45300000e+03,   3.53930000e+03,\n",
       "          3.62560000e+03,   3.71190000e+03,   3.79820000e+03,\n",
       "          3.88450000e+03,   3.97080000e+03,   4.05710000e+03,\n",
       "          4.14340000e+03,   4.22970000e+03,   4.31600000e+03]),\n",
       " <a list of 50 Patch objects>)"
      ]
     },
     "execution_count": 17,
     "metadata": {},
     "output_type": "execute_result"
    },
    {
     "data": {
      "image/png": "[encoded data removed]",
      "text/plain": [
       "<matplotlib.figure.Figure at 0xcd2edc88>"
      ]
     },
     "metadata": {},
     "output_type": "display_data"
    }
   ],
   "source": [
    "print max(other_http_counts)\n",
    "plt.hist(other_http_counts, bins=50)"
   ]
  },
  {
   "cell_type": "code",
   "execution_count": 22,
   "metadata": {
    "collapsed": false
   },
   "outputs": [
    {
     "data": {
      "text/plain": [
       "(array([  1.83785300e+06,   2.48739000e+05,   6.91090000e+04,\n",
       "          2.60020000e+04,   1.34300000e+04,   7.16300000e+03,\n",
       "          3.88000000e+03,   3.11000000e+03,   2.24800000e+03,\n",
       "          1.27400000e+03,   1.62000000e+03,   6.92000000e+02,\n",
       "          7.08000000e+02,   5.74000000e+02,   4.00000000e+02,\n",
       "          3.01000000e+02,   1.00000000e+02,   3.16000000e+02,\n",
       "          4.33000000e+02,   5.62000000e+02,   1.73000000e+02,\n",
       "          6.65000000e+02,   1.01000000e+02,   6.60000000e+01,\n",
       "          6.69000000e+02,   6.20000000e+01,   1.71000000e+02,\n",
       "          1.18000000e+02,   1.38000000e+02,   1.65000000e+02,\n",
       "          4.00000000e+01,   7.80000000e+01,   5.40000000e+01,\n",
       "          4.20000000e+01,   2.56000000e+02,   7.20000000e+01,\n",
       "          3.90000000e+01,   9.00000000e+01,   6.80000000e+01,\n",
       "          1.74000000e+02,   2.49000000e+02,   1.33000000e+02,\n",
       "          3.10000000e+01,   5.80000000e+01,   2.04000000e+02,\n",
       "          1.20000000e+01,   6.40000000e+01,   6.00000000e+00,\n",
       "          1.00000000e+01,   1.80000000e+01]),\n",
       " array([   1.  ,    8.94,   16.88,   24.82,   32.76,   40.7 ,   48.64,\n",
       "          56.58,   64.52,   72.46,   80.4 ,   88.34,   96.28,  104.22,\n",
       "         112.16,  120.1 ,  128.04,  135.98,  143.92,  151.86,  159.8 ,\n",
       "         167.74,  175.68,  183.62,  191.56,  199.5 ,  207.44,  215.38,\n",
       "         223.32,  231.26,  239.2 ,  247.14,  255.08,  263.02,  270.96,\n",
       "         278.9 ,  286.84,  294.78,  302.72,  310.66,  318.6 ,  326.54,\n",
       "         334.48,  342.42,  350.36,  358.3 ,  366.24,  374.18,  382.12,\n",
       "         390.06,  398.  ]),\n",
       " <a list of 50 Patch objects>)"
      ]
     },
     "execution_count": 22,
     "metadata": {},
     "output_type": "execute_result"
    },
    {
     "data": {
      "image/png": "[encoded data removed]",
      "text/plain": [
       "<matplotlib.figure.Figure at 0xcdcd9320>"
      ]
     },
     "metadata": {},
     "output_type": "display_data"
    }
   ],
   "source": [
    "plt.hist([i for i in other_https_counts if i < 400], bins=50)"
   ]
  },
  {
   "cell_type": "code",
   "execution_count": 18,
   "metadata": {
    "collapsed": false
   },
   "outputs": [
    {
     "data": {
      "text/plain": [
       "(array([ 2300.,   503.,   281.,   150.,   118.,   194.,   202.,   148.,\n",
       "          129.,   109.,   126.,    93.,   105.,    30.,    42.,   120.,\n",
       "           15.,    18.,    18.,    21.,    12.,    21.,     0.,    18.,\n",
       "            3.,   207.,   233.,   222.,    49.,    21.,    35.,    14.,\n",
       "           62.,    57.,   185.,   219.,     9.,    81.,   222.,   189.,\n",
       "          377.,    24.,    15.,   141.,   177.,     6.,    48.,     6.,\n",
       "            3.,    27.]),\n",
       " array([   1.  ,    6.26,   11.52,   16.78,   22.04,   27.3 ,   32.56,\n",
       "          37.82,   43.08,   48.34,   53.6 ,   58.86,   64.12,   69.38,\n",
       "          74.64,   79.9 ,   85.16,   90.42,   95.68,  100.94,  106.2 ,\n",
       "         111.46,  116.72,  121.98,  127.24,  132.5 ,  137.76,  143.02,\n",
       "         148.28,  153.54,  158.8 ,  164.06,  169.32,  174.58,  179.84,\n",
       "         185.1 ,  190.36,  195.62,  200.88,  206.14,  211.4 ,  216.66,\n",
       "         221.92,  227.18,  232.44,  237.7 ,  242.96,  248.22,  253.48,\n",
       "         258.74,  264.  ]),\n",
       " <a list of 50 Patch objects>)"
      ]
     },
     "execution_count": 18,
     "metadata": {},
     "output_type": "execute_result"
    },
    {
     "data": {
      "image/png": "[encoded data removed]",
      "text/plain": [
       "<matplotlib.figure.Figure at 0xcaaef128>"
      ]
     },
     "metadata": {},
     "output_type": "display_data"
    }
   ],
   "source": [
    "plt.hist(awesome_http_counts, bins=50)"
   ]
  },
  {
   "cell_type": "code",
   "execution_count": 20,
   "metadata": {
    "collapsed": false
   },
   "outputs": [
    {
     "data": {
      "text/plain": [
       "(array([ 2125.,  1530.,   594.,   504.,   363.,    78.,   246.,    75.,\n",
       "          171.,   456.,   304.,   237.,    66.,   183.,   105.,     3.,\n",
       "            0.,     3.,     0.,     0.,     0.,     0.,     0.,     0.,\n",
       "            0.,     0.,     0.,     0.,     0.,     0.,     0.,     0.,\n",
       "            0.,     0.,     0.,     0.,     3.,     0.,     0.,     0.,\n",
       "           15.,     0.,     0.,     0.,     0.,     0.,     0.,     0.,\n",
       "            0.,     3.]),\n",
       " array([  1.00000000e+00,   3.03800000e+01,   5.97600000e+01,\n",
       "          8.91400000e+01,   1.18520000e+02,   1.47900000e+02,\n",
       "          1.77280000e+02,   2.06660000e+02,   2.36040000e+02,\n",
       "          2.65420000e+02,   2.94800000e+02,   3.24180000e+02,\n",
       "          3.53560000e+02,   3.82940000e+02,   4.12320000e+02,\n",
       "          4.41700000e+02,   4.71080000e+02,   5.00460000e+02,\n",
       "          5.29840000e+02,   5.59220000e+02,   5.88600000e+02,\n",
       "          6.17980000e+02,   6.47360000e+02,   6.76740000e+02,\n",
       "          7.06120000e+02,   7.35500000e+02,   7.64880000e+02,\n",
       "          7.94260000e+02,   8.23640000e+02,   8.53020000e+02,\n",
       "          8.82400000e+02,   9.11780000e+02,   9.41160000e+02,\n",
       "          9.70540000e+02,   9.99920000e+02,   1.02930000e+03,\n",
       "          1.05868000e+03,   1.08806000e+03,   1.11744000e+03,\n",
       "          1.14682000e+03,   1.17620000e+03,   1.20558000e+03,\n",
       "          1.23496000e+03,   1.26434000e+03,   1.29372000e+03,\n",
       "          1.32310000e+03,   1.35248000e+03,   1.38186000e+03,\n",
       "          1.41124000e+03,   1.44062000e+03,   1.47000000e+03]),\n",
       " <a list of 50 Patch objects>)"
      ]
     },
     "execution_count": 20,
     "metadata": {},
     "output_type": "execute_result"
    },
    {
     "data": {
      "image/png": "[encoded data removed]",
      "text/plain": [
       "<matplotlib.figure.Figure at 0xcdcd98d0>"
      ]
     },
     "metadata": {},
     "output_type": "display_data"
    }
   ],
   "source": [
    "plt.hist(awesome_https_counts, bins=50)"
   ]
  },
  {
   "cell_type": "code",
   "execution_count": 26,
   "metadata": {
    "collapsed": false
   },
   "outputs": [
    {
     "data": {
      "text/plain": [
       "(array([ 968.,  271.,  108.,   75.,   98.,  123.,  108.,   88.,  297.,\n",
       "          44.,   40.,   23.,   26.,   66.,  138.,   75.,   30.,   48.,\n",
       "           8.,   11.,   32.,   55.,    3.,    0.,    0.,    0.,    0.,\n",
       "           0.,    0.,    0.,    0.,    0.,    0.,    0.,    0.,    0.,\n",
       "           1.,    0.,    0.,    0.,    5.,    0.,    0.,    0.,    0.,\n",
       "           0.,    0.,    0.,    0.,    1.]),\n",
       " array([  1.00000000e+00,   1.21380000e+02,   2.41760000e+02,\n",
       "          3.62140000e+02,   4.82520000e+02,   6.02900000e+02,\n",
       "          7.23280000e+02,   8.43660000e+02,   9.64040000e+02,\n",
       "          1.08442000e+03,   1.20480000e+03,   1.32518000e+03,\n",
       "          1.44556000e+03,   1.56594000e+03,   1.68632000e+03,\n",
       "          1.80670000e+03,   1.92708000e+03,   2.04746000e+03,\n",
       "          2.16784000e+03,   2.28822000e+03,   2.40860000e+03,\n",
       "          2.52898000e+03,   2.64936000e+03,   2.76974000e+03,\n",
       "          2.89012000e+03,   3.01050000e+03,   3.13088000e+03,\n",
       "          3.25126000e+03,   3.37164000e+03,   3.49202000e+03,\n",
       "          3.61240000e+03,   3.73278000e+03,   3.85316000e+03,\n",
       "          3.97354000e+03,   4.09392000e+03,   4.21430000e+03,\n",
       "          4.33468000e+03,   4.45506000e+03,   4.57544000e+03,\n",
       "          4.69582000e+03,   4.81620000e+03,   4.93658000e+03,\n",
       "          5.05696000e+03,   5.17734000e+03,   5.29772000e+03,\n",
       "          5.41810000e+03,   5.53848000e+03,   5.65886000e+03,\n",
       "          5.77924000e+03,   5.89962000e+03,   6.02000000e+03]),\n",
       " <a list of 50 Patch objects>)"
      ]
     },
     "execution_count": 26,
     "metadata": {},
     "output_type": "execute_result"
    },
    {
     "data": {
      "image/png": "[encoded data removed]",
      "text/plain": [
       "<matplotlib.figure.Figure at 0xccc12550>"
      ]
     },
     "metadata": {},
     "output_type": "display_data"
    }
   ],
   "source": [
    "plt.hist(total.values(), bins=50)"
   ]
  },
  {
   "cell_type": "code",
   "execution_count": 8,
   "metadata": {
    "collapsed": false
   },
   "outputs": [
    {
     "name": "stdout",
     "output_type": "stream",
     "text": [
      "18523\n"
     ]
    }
   ],
   "source": [
    "flagged_as_non_repo = set()\n",
    "\n",
    "for t in index['http']:\n",
    "    if t[1] >= 50:\n",
    "        flagged_as_non_repo.add(str(t[0]))\n",
    "        \n",
    "                \n",
    "for t in index['https']:\n",
    "    if t[1] >= 50:\n",
    "        flagged_as_non_repo.add(str(t[0]))\n",
    "        \n",
    "print len(flagged_as_non_repo)\n",
    "\n",
    "json.dump(list(flagged_as_non_repo), open(os.path.join('data', 'flagged_as_non_repo.json'), 'w+'))"
   ]
  },
  {
   "cell_type": "code",
   "execution_count": null,
   "metadata": {
    "collapsed": true
   },
   "outputs": [],
   "source": []
  }
 ],
 "metadata": {
  "kernelspec": {
   "display_name": "Python 2",
   "language": "python",
   "name": "python2"
  },
  "language_info": {
   "codemirror_mode": {
    "name": "ipython",
    "version": 2
   },
   "file_extension": ".py",
   "mimetype": "text/x-python",
   "name": "python",
   "nbconvert_exporter": "python",
   "pygments_lexer": "ipython2",
   "version": "2.7.9"
  }
 },
 "nbformat": 4,
 "nbformat_minor": 0
}
